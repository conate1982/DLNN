{
 "cells": [
  {
   "cell_type": "code",
   "execution_count": null,
   "id": "6cad2bc9",
   "metadata": {},
   "outputs": [],
   "source": [
    "#Parameters to handle data\n",
    "batch_size = 10\n",
    "train_valid_percentage = 0.8\n",
    "test_percentage = 0.2\n",
    "\n",
    "#Hiperparameters\n",
    "n_epochs = 400\n",
    "sgd_lr = 0.05"
   ]
  }
 ],
 "metadata": {
  "kernelspec": {
   "display_name": "Python 3 (ipykernel)",
   "language": "python",
   "name": "python3"
  },
  "language_info": {
   "codemirror_mode": {
    "name": "ipython",
    "version": 3
   },
   "file_extension": ".py",
   "mimetype": "text/x-python",
   "name": "python",
   "nbconvert_exporter": "python",
   "pygments_lexer": "ipython3",
   "version": "3.9.12"
  }
 },
 "nbformat": 4,
 "nbformat_minor": 5
}
